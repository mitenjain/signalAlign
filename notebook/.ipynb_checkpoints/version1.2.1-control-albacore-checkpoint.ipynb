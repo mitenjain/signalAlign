{
 "cells": [
  {
   "cell_type": "code",
   "execution_count": 1,
   "metadata": {
    "collapsed": true
   },
   "outputs": [],
   "source": [
    "#notebook for testing version control on Albacore data. \n",
    "from __future__ import print_function\n",
    "\n",
    "import sys\n",
    "import h5py\n",
    "\n",
    "from itertools import islice\n",
    "\n",
    "TEMPLATE_BASECALL_KEY_0 = \"/Analyses/Basecall_1D_001\" #latest basecalled name (001)\n",
    "TWOD_BASECALL_KEY_0     = \"/Analyses/Basecall_2D_000\"\n",
    "VERSION_KEY             = \"version\" \n",
    "SUPPORTED_1D_VERSIONS   = (\"1.2.1\") #version of the current albacore data\n",
    "\n",
    "\n",
    "class NanoporeRead(object):\n",
    "    def __init__(self, fast_five_file, twoD=False):\n",
    "        # load the fast5\n",
    "        self.filename = fast_five_file         # fast5 file path\n",
    "        self.is_open = self.open()             # bool, is the member .fast5 open?\n",
    "        self.read_label = \"\"                   # read label, template read by default\n",
    "        self.alignment_table_sequence = \"\"     # the sequence made by assembling the alignment table\n",
    "        self.template_events = []              # template event sequence\n",
    "        self.complement_events = []            # complement event sequence\n",
    "        self.template_read = \"\"                # template strand base (from fastq) sequence\n",
    "        self.complement_read = \"\"              # complement strand base (from fastq) sequence\n",
    "        self.template_strand_event_map = []    # map of events to kmers in the 1D template read\n",
    "        self.complement_strand_event_map = []  # map of events to kmers in the 1D complement read\n",
    "        self.template_event_map = []           # map of template events to kmers in 2D read\n",
    "        self.complement_event_map = []         # map of complement events to kmers in 2D read\n",
    "        self.stay_prob = 0                     # TODO, do I need this?\n",
    "        self.template_model_name = \"\"          # legacy, for reads base-called by a specific model (template)\n",
    "        self.complement_model_name = \"\"        # legacy, for reads base-called by a specific model (complement)\n",
    "        self.template_scale = 1                # initial values for scaling parameters\n",
    "        self.template_shift = 1                # \n",
    "        self.template_drift = 0                # Template Parameters\n",
    "        self.template_var = 1                  #\n",
    "        self.template_scale_sd = 1             #\n",
    "        self.template_var_sd = 1               # --------------------------------------\n",
    "        self.complement_scale = 1              #\n",
    "        self.complement_shift = 1              # Complement Parameters\n",
    "        self.complement_drift = 0              # \n",
    "        self.complement_var = 1                #\n",
    "        self.complement_scale_sd = 1           #\n",
    "        self.complement_var_sd = 1             #\n",
    "        self.twoD = twoD                       # 2D read flag, necessary right now, and the client should know\n",
    "\n",
    "    def open(self):\n",
    "        try:\n",
    "            self.fastFive = h5py.File(self.filename, 'r')\n",
    "            return True\n",
    "        except Exception, e:\n",
    "            self.close()\n",
    "            print(\"Error opening file {filename}, {e}\".format(filename=self.filename, e=e), file=sys.stderr)\n",
    "            return False\n",
    "\n",
    "    def get_latest_basecall_edition(self, address):\n",
    "        highest = 0\n",
    "        while(highest < 10):\n",
    "            if address.format(highest) in self.fastFive:\n",
    "                highest += 1\n",
    "                continue\n",
    "            else:\n",
    "                return address.format(highest - 1)  # the last base-called version we saw\n",
    "\n",
    "    def Initialize(self, parent_job):\n",
    "        print(\"Initialize\")\n",
    "        if not self.is_open:\n",
    "            ok = self.open()\n",
    "            if not ok:\n",
    "                self.logError(\"[NanoporeRead:Initialize]ERROR opening %s\" % self.filename, parent_job)\n",
    "                self.close()\n",
    "                return False\n",
    "        if self.twoD:\n",
    "            print(\"self.twoD is used in nanoporeRead\")\n",
    "            ok = self._initialize_twoD(parent_job)\n",
    "        else:\n",
    "            print(\"self.twoD is not used in nanoporeRead\")\n",
    "            ok = self._initialize(parent_job)\n",
    "        return ok\n",
    "\n",
    "    def _initialize(self, parent_job):\n",
    "        \"\"\"Routine setup 1D NanoporeReads, returns false if basecalled with upsupported\n",
    "        version or is not base-called\n",
    "        \"\"\"\n",
    "        #print(\"setup 1D NanoporeReads with  _initialize\")\n",
    "        if TEMPLATE_BASECALL_KEY_0 not in self.fastFive:  # not base-called\n",
    "            self.logError(\"[NanoporeRead:_initialize]ERROR %s not basecalled\" % self.filename, parent_job)\n",
    "            self.close()\n",
    "            return False\n",
    "\n",
    "        oneD_root_address = self.get_latest_basecall_edition(\"/Analyses/Basecall_1D_00{}\")\n",
    "\n",
    "        if VERSION_KEY not in self.fastFive[oneD_root_address].attrs.keys():\n",
    "            self.logError(\"[NanoporeRead:_initialize]ERROR %s missing version\" % self.filename, parent_job)\n",
    "            self.close()\n",
    "            return False\n",
    "\n",
    "        self.version = self.fastFive[oneD_root_address].attrs[\"version\"]\n",
    "\n",
    "        if self.version not in SUPPORTED_1D_VERSIONS:\n",
    "            self.logError(\"[NanoporeRead:_initialize]ERROR %s unsupported version %s \" % (self.filename, self.version),\n",
    "                          parent_job)\n",
    "            self.close()\n",
    "            return False\n",
    "\n",
    "        self.template_event_table_address = \"%s/BaseCalled_template/Events\" % oneD_root_address\n",
    "        self.template_model_address       = \"%s/BaseCalled_template/Model\" % oneD_root_address\n",
    "        self.template_model_id            = None\n",
    "\n",
    "        fastq_sequence_address = \"%s/BaseCalled_template/Fastq\" % oneD_root_address\n",
    "        if fastq_sequence_address not in self.fastFive:\n",
    "            self.logError(\"[NanoporeRead:_initialize]ERROR %s missing fastq\" % self.filename, parent_job)\n",
    "            self.close()\n",
    "            return False\n",
    "\n",
    "        self.template_read        = self.fastFive[fastq_sequence_address][()].split()[2]\n",
    "        self.read_label           = self.fastFive[fastq_sequence_address][()].split()[0][1:]\n",
    "        self.kmer_length          = len(self.fastFive[self.template_event_table_address][0][4])\n",
    "        self.template_read_length = len(self.template_read)\n",
    "        if self.template_read_length <= 0 or not self.read_label or self.kmer_length <= 0:\n",
    "            self.logError(\"[NanoporeRead:_initialize]ERROR %s illegal read parameters \"\n",
    "                          \"template_read_length: %s, read_label: %s, kmer_length: %s\"\n",
    "                          % (self.template_read_length, self.read_label, self.kmer_length), parent_job)\n",
    "            self.close()\n",
    "            return False\n",
    "\n",
    "        return True\n",
    "\n",
    "    def _initialize_twoD(self, parent_job=None):\n",
    "        self.has2D = False\n",
    "        self.has2D_alignment_table = False\n",
    "\n",
    "        if TWOD_BASECALL_KEY_0 not in self.fastFive:\n",
    "            self.close()\n",
    "            return False\n",
    "\n",
    "        twoD_address = self.get_latest_basecall_edition(\"/Analyses/Basecall_2D_00{}\")\n",
    "        if twoD_address not in self.fastFive:\n",
    "            self.logError(\"[NanoporeRead::initialize_twoD] Didn't find twoD address, looked here %s \" % twoD_address, \n",
    "                          parent_job)\n",
    "            self.close()\n",
    "            return False\n",
    "\n",
    "        self.version = self.fastFive[twoD_address].attrs[\"dragonet version\"]\n",
    "\n",
    "        supported_versions = [\"1.15.0\", \"1.19.0\", \"1.20.0\", \"1.22.2\", \"1.22.4\", \"1.23.0\"]\n",
    "        if self.version not in supported_versions:\n",
    "            self.logError(\"[NanoporeRead::initialize_twoD]Unsupported Version {} (1.15.0, 1.19.0, 1.20.0, \"\n",
    "                          \"1.22.2, 1.22.4, 1.23.0 supported)\".format(self.version), parent_job)\n",
    "            self.close()\n",
    "            return False\n",
    "\n",
    "        if self.version == \"1.15.0\":\n",
    "            oneD_address = self.get_latest_basecall_edition(\"/Analyses/Basecall_2D_00{}\")\n",
    "        else:\n",
    "            oneD_address = self.get_latest_basecall_edition(\"/Analyses/Basecall_1D_00{}\")\n",
    "\n",
    "        twoD_alignment_table_address = twoD_address + \"/BaseCalled_2D/Alignment\"\n",
    "        if twoD_alignment_table_address in self.fastFive:\n",
    "            self.twoD_alignment_table = self.fastFive[twoD_alignment_table_address]\n",
    "            if len(self.twoD_alignment_table) > 0:\n",
    "                self.has2D_alignment_table = True\n",
    "            self.kmer_length = len(self.twoD_alignment_table[0][2])\n",
    "\n",
    "        twoD_read_sequence_address = twoD_address + \"/BaseCalled_2D/Fastq\"\n",
    "        if twoD_read_sequence_address in self.fastFive:\n",
    "            self.has2D = True\n",
    "            self.twoD_read_sequence = self.fastFive[twoD_read_sequence_address][()].split()[2]\n",
    "            self.read_label = self.fastFive[twoD_read_sequence_address][()].split()[0:2][0][1:]\n",
    "\n",
    "        # initialize version-specific paths\n",
    "        if self.version == \"1.15.0\":\n",
    "            self.template_event_table_address = twoD_address + '/BaseCalled_template/Events'\n",
    "            self.template_model_address = twoD_address + \"/BaseCalled_template/Model\"\n",
    "            self.template_model_id = self.get_model_id(twoD_address + \"/Summary/basecall_1d_template\")\n",
    "            self.template_read = self.fastFive[twoD_address + \"/BaseCalled_template/Fastq\"][()].split()[2]\n",
    "\n",
    "            self.complement_event_table_address = twoD_address + '/BaseCalled_complement/Events'\n",
    "            self.complement_model_address = twoD_address + \"/BaseCalled_complement/Model\"\n",
    "            self.complement_model_id = self.get_model_id(twoD_address + \"/Summary/basecall_1d_complement\")\n",
    "            self.complement_read = self.fastFive[twoD_address + \"/BaseCalled_complement/Fastq\"][()].split()[2]\n",
    "            return True\n",
    "\n",
    "        elif self.version == \"1.19.0\" or self.version == \"1.20.0\":\n",
    "            self.template_event_table_address = oneD_address + '/BaseCalled_template/Events'\n",
    "            self.template_model_address = oneD_address + \"/BaseCalled_template/Model\"\n",
    "            self.template_model_id = self.get_model_id(oneD_address + \"/Summary/basecall_1d_template\")\n",
    "            self.template_read = self.fastFive[oneD_address + \"/BaseCalled_template/Fastq\"][()].split()[2]\n",
    "\n",
    "            self.complement_event_table_address = oneD_address + '/BaseCalled_complement/Events'\n",
    "            self.complement_model_address = oneD_address + \"/BaseCalled_complement/Model\"\n",
    "            self.complement_model_id = self.get_model_id(oneD_address + \"/Summary/basecall_1d_complement\")\n",
    "            self.complement_read = self.fastFive[oneD_address + \"/BaseCalled_complement/Fastq\"][()].split()[2]\n",
    "            return True\n",
    "\n",
    "        elif self.version == \"1.22.2\" or self.version == \"1.22.4\" or self.version == \"1.23.0\":\n",
    "            self.template_event_table_address = oneD_address + '/BaseCalled_template/Events'\n",
    "            self.template_model_address = \"\"\n",
    "            self.template_model_id = None\n",
    "            self.template_read = self.fastFive[oneD_address + \"/BaseCalled_template/Fastq\"][()].split()[2]\n",
    "\n",
    "            self.complement_event_table_address = oneD_address + '/BaseCalled_complement/Events'\n",
    "            self.complement_model_address = \"\"\n",
    "            self.complement_model_id = None\n",
    "            self.complement_read = self.fastFive[oneD_address + \"/BaseCalled_complement/Fastq\"][()].split()[2]\n",
    "            return True\n",
    "        else:\n",
    "            self.logError(\"Unsupported Version (1.15.0, 1.19.0, 1.20.0, 1.22.2, 1.22.4 supported)\", parent_job)\n",
    "            return False\n",
    "\n",
    "    def assemble_2d_sequence_from_table(self):\n",
    "        \"\"\"The 2D read sequence contains kmers that may not map to a template or complement event, which can make\n",
    "        mapping difficult downstream. This function makes a sequence from the 2D alignment table, which is usually\n",
    "        pretty similar to the 2D read, except it is guaranteed to have an event map to every position.\n",
    "        returns: sequence made from alignment table\n",
    "        \"\"\"\n",
    "        def find_kmer_overlap(k_i, k_j):\n",
    "            \"\"\" finds the overlap between two non-identical kmers.\n",
    "            k_i: one kmer\n",
    "            k_j: another kmer\n",
    "            returns: The number of positions not matching\n",
    "            \"\"\"\n",
    "            for i in xrange(1, len(k_i)):\n",
    "                sk_i = k_i[i:]\n",
    "                sk_j = k_j[:-i]\n",
    "                if sk_i == sk_j:\n",
    "                    return i\n",
    "            return len(k_i)\n",
    "\n",
    "        self.alignment_table_sequence = ''\n",
    "        self.alignment_table_sequence = self.twoD_alignment_table[0][2]\n",
    "        p_kmer = self.twoD_alignment_table[0][2]\n",
    "\n",
    "        # iterate through the k-mers in the alignment table\n",
    "        for t, c, kmer in self.twoD_alignment_table:\n",
    "            # if we're at a new 6-mer\n",
    "            if kmer != p_kmer:\n",
    "                # find overlap, could move up to len(k-mer) - 1 bases\n",
    "                i = find_kmer_overlap(p_kmer, kmer)\n",
    "                # append the suffix of the new 6-mer to the sequence\n",
    "                self.alignment_table_sequence += kmer[-i:]\n",
    "                # update\n",
    "                p_kmer = kmer\n",
    "            else:\n",
    "                continue\n",
    "        return\n",
    "\n",
    "    def init_1d_event_maps(self):\n",
    "        \"\"\"Maps the events from the template and complement strands to their base called kmers the map\n",
    "        generated by this function is called the \"strand_event_map\" because it only works for mapping the\n",
    "        strand read (1D read) to to it's events. Uses the same fields as 'get_twoD_event_map' below.\n",
    "        \"\"\"\n",
    "        def make_map(events):\n",
    "            event_map = [0]\n",
    "            previous_prob = 0\n",
    "            for i, line in islice(enumerate(events), 1, None):\n",
    "                move = line['move']\n",
    "                this_prob = line['p_model_state']\n",
    "                if move == 1:\n",
    "                    event_map.append(i)\n",
    "                if move > 1:\n",
    "                    for skip in xrange(move - 1):\n",
    "                        event_map.append(i - 1)\n",
    "                    event_map.append(i)\n",
    "                if move == 0:\n",
    "                    if this_prob > previous_prob:\n",
    "                        event_map[-1] = i\n",
    "                previous_prob = this_prob\n",
    "            final_event_index = [event_map[-1]]\n",
    "            padding = final_event_index * (self.kmer_length - 1)\n",
    "            event_map = event_map + padding\n",
    "            return event_map\n",
    "\n",
    "        self.template_strand_event_map = make_map(self.template_events)\n",
    "        assert len(self.template_strand_event_map) == len(self.template_read)\n",
    "\n",
    "        if self.twoD:\n",
    "            self.complement_strand_event_map = make_map(self.complement_events)\n",
    "            assert len(self.complement_strand_event_map) == len(self.complement_read)\n",
    "\n",
    "        return True\n",
    "\n",
    "    def get_twoD_event_map(self):\n",
    "        \"\"\"Maps the kmers in the alignment table sequence read to events in the template and complement strand reads\n",
    "        \"\"\"\n",
    "        def kmer_iterator(dna, k):\n",
    "            for i in xrange(len(dna)):\n",
    "                kmer = dna[i:(i + k)]\n",
    "                if len(kmer) == k:\n",
    "                    yield kmer\n",
    "        # initialize\n",
    "        alignment_row = 0\n",
    "        prev_alignment_kmer = ''\n",
    "        nb_template_gaps = 0\n",
    "        previous_complement_event = None\n",
    "        previous_template_event = None\n",
    "\n",
    "        #twoD_init = self.initialize_twoD()\n",
    "        #if twoD_init is False:\n",
    "        #    return False\n",
    "\n",
    "        if not self.has2D_alignment_table:\n",
    "            print(\"{file} doesn't have 2D alignment table\".format(file=self.filename))\n",
    "            return False\n",
    "\n",
    "        self.assemble_2d_sequence_from_table()\n",
    "\n",
    "        # go thought the kmers in the read sequence and match up the events\n",
    "        for i, seq_kmer in enumerate(kmer_iterator(self.alignment_table_sequence, self.kmer_length)):\n",
    "            # assign the current row's kmer\n",
    "            current_alignment_kmer = self.twoD_alignment_table[alignment_row][2]\n",
    "\n",
    "            # in the situation where there is a repeat kmer in the alignment then\n",
    "            # we want to pick the best event to kmer alignment, TODO implement this\n",
    "            # right now we just use the first alignment\n",
    "            while current_alignment_kmer == prev_alignment_kmer:\n",
    "                alignment_row += 1\n",
    "                current_alignment_kmer = self.twoD_alignment_table[alignment_row][2]\n",
    "\n",
    "            # a match\n",
    "            if seq_kmer == current_alignment_kmer:\n",
    "                template_event = self.twoD_alignment_table[alignment_row][0]\n",
    "                complement_event = self.twoD_alignment_table[alignment_row][1]\n",
    "\n",
    "                # handle template event\n",
    "                # if there is a gap, count it and don't add anything to the map\n",
    "                if template_event == -1:\n",
    "                    nb_template_gaps += 1\n",
    "\n",
    "                # if there is an aligned event\n",
    "                if template_event != -1:\n",
    "                    # if it is an aligned event and there are no gaps, add it to the map\n",
    "                    if nb_template_gaps == 0:\n",
    "                        self.template_event_map.append(template_event)\n",
    "                        # update\n",
    "                        previous_template_event = template_event\n",
    "                    # if there were gaps in the alignment we have to add 'best guess'\n",
    "                    # event alignments to the map which is the current aligned event\n",
    "                    if nb_template_gaps > 0:\n",
    "                        self.template_event_map += [template_event] * (nb_template_gaps + 1)\n",
    "                        # reset template gaps\n",
    "                        nb_template_gaps = 0\n",
    "                        # update\n",
    "                        previous_template_event = template_event\n",
    "\n",
    "                # handle complement event\n",
    "                # if there is a gap, add the last aligned complement event to the map\n",
    "                if complement_event == -1:\n",
    "                    self.complement_event_map.append(previous_complement_event)\n",
    "\n",
    "                # if there is an aligned complement event add it to the map\n",
    "                if complement_event != -1:\n",
    "                    self.complement_event_map.append(complement_event)\n",
    "                    # update the most recent aligned complement event\n",
    "                    previous_complement_event = complement_event\n",
    "\n",
    "                # update previous alignment kmer and increment alignment row\n",
    "                prev_alignment_kmer = current_alignment_kmer\n",
    "                alignment_row += 1\n",
    "                continue\n",
    "\n",
    "            # not a match, meaning that this kmer in the read sequence is not\n",
    "            # in the event alignment but we need to assign an event to it so\n",
    "            # we use the heuristic that we use the alignment of the most\n",
    "            # recent aligned events to this base\n",
    "            if seq_kmer != current_alignment_kmer:\n",
    "                self.template_event_map.append(previous_template_event)\n",
    "                self.complement_event_map.append(previous_complement_event)\n",
    "                continue\n",
    "\n",
    "        # fill in the final events for the partial last kmer\n",
    "        for _ in xrange(self.kmer_length - 1):\n",
    "            self.template_event_map += [previous_template_event] * (nb_template_gaps + 1)\n",
    "            self.complement_event_map.append(previous_complement_event)\n",
    "            nb_template_gaps = 0\n",
    "\n",
    "        # check that we have mapped all of the bases in the 2D read\n",
    "        assert(len(self.template_event_map) == len(self.alignment_table_sequence))\n",
    "        assert(len(self.complement_event_map) == len(self.alignment_table_sequence))\n",
    "        return True\n",
    "\n",
    "    def get_template_events(self):\n",
    "        if self.template_event_table_address in self.fastFive:\n",
    "            self.template_events = self.fastFive[self.template_event_table_address]\n",
    "            return True\n",
    "\n",
    "        if self.template_event_table_address not in self.fastFive:\n",
    "            return False\n",
    "\n",
    "    def get_complement_events(self):\n",
    "        if self.complement_event_table_address in self.fastFive:\n",
    "            self.complement_events = self.fastFive[self.complement_event_table_address]\n",
    "            return True\n",
    "\n",
    "        if self.complement_event_table_address not in self.fastFive:\n",
    "            return False\n",
    "\n",
    "    def get_template_model_adjustments(self):\n",
    "        if self.template_model_address in self.fastFive:\n",
    "            self.has_template_model = True\n",
    "            self.template_scale = self.fastFive[self.template_model_address].attrs[\"scale\"]\n",
    "            self.template_shift = self.fastFive[self.template_model_address].attrs[\"shift\"]\n",
    "            self.template_drift = self.fastFive[self.template_model_address].attrs[\"drift\"]\n",
    "            self.template_var = self.fastFive[self.template_model_address].attrs[\"var\"]\n",
    "            self.template_scale_sd = self.fastFive[self.template_model_address].attrs[\"scale_sd\"]\n",
    "            self.template_var_sd = self.fastFive[self.template_model_address].attrs[\"var_sd\"]\n",
    "\n",
    "        if self.template_model_address not in self.fastFive:\n",
    "            self.has_template_model = False\n",
    "        return\n",
    "\n",
    "    def get_complement_model_adjustments(self):\n",
    "        if self.complement_model_address in self.fastFive:\n",
    "            self.has_complement_model = True\n",
    "            self.complement_scale = self.fastFive[self.complement_model_address].attrs[\"scale\"]\n",
    "            self.complement_shift = self.fastFive[self.complement_model_address].attrs[\"shift\"]\n",
    "            self.complement_drift = self.fastFive[self.complement_model_address].attrs[\"drift\"]\n",
    "            self.complement_var = self.fastFive[self.complement_model_address].attrs[\"var\"]\n",
    "            self.complement_scale_sd = self.fastFive[self.complement_model_address].attrs[\"scale_sd\"]\n",
    "            self.complement_var_sd = self.fastFive[self.complement_model_address].attrs[\"var_sd\"]\n",
    "\n",
    "        if self.complement_model_address not in self.fastFive:\n",
    "            self.has_complement_model = False\n",
    "        return\n",
    "\n",
    "    def get_model_id(self, address):\n",
    "        if address in self.fastFive:\n",
    "            model_name = self.fastFive[address].attrs[\"model_file\"]\n",
    "            model_name = model_name.split('/')[-1]\n",
    "            return model_name\n",
    "        else:\n",
    "            return None\n",
    "\n",
    "    def Write(self, parent_job, out_file, initialize=True):\n",
    "        if initialize:\n",
    "            ok = self.Initialize(parent_job)\n",
    "            if not ok:\n",
    "                self.close()\n",
    "                return False\n",
    "\n",
    "        if self.twoD:\n",
    "            twoD_map_check          = self.get_twoD_event_map()\n",
    "            complement_events_check = self.get_complement_events()\n",
    "        else:\n",
    "            twoD_map_check          = True\n",
    "            complement_events_check = True\n",
    "\n",
    "        template_events_check = self.get_template_events()\n",
    "        oneD_event_map_check  = self.init_1d_event_maps()\n",
    "\n",
    "        ok = False not in [twoD_map_check, template_events_check, complement_events_check, oneD_event_map_check]\n",
    "        if not ok:\n",
    "            self.close()\n",
    "            return False\n",
    "\n",
    "        # get model params\n",
    "        self.get_template_model_adjustments()\n",
    "        if self.twoD:\n",
    "            self.get_complement_model_adjustments()\n",
    "\n",
    "        # Make the npRead\n",
    "        # line 1 parameters\n",
    "        print(len(self.alignment_table_sequence), end=' ', file=out_file)  # 0alignment read length\n",
    "        print(len(self.template_events), end=' ', file=out_file)           # 1nb of template events\n",
    "        print(len(self.complement_events), end=' ', file=out_file)         # 2nb of complement events\n",
    "        print(len(self.template_read), end=' ', file=out_file)             # 3length of template read\n",
    "        print(len(self.complement_read), end=' ', file=out_file)           # 4length of complement read\n",
    "        print(self.template_scale, end=' ', file=out_file)                 # 5template scale\n",
    "        print(self.template_shift, end=' ', file=out_file)                 # 6template shift\n",
    "        print(self.template_var, end=' ', file=out_file)                   # 7template var\n",
    "        print(self.template_scale_sd, end=' ', file=out_file)              # 8template scale_sd\n",
    "        print(self.template_var_sd, end=' ', file=out_file)                # 9template var_sd\n",
    "        print(self.template_drift, end=' ', file=out_file)                 # 0template_drift\n",
    "        print(self.complement_scale, end=' ', file=out_file)               # 1complement scale\n",
    "        print(self.complement_shift, end=' ', file=out_file)               # 2complement shift\n",
    "        print(self.complement_var, end=' ', file=out_file)                 # 3complement var\n",
    "        print(self.complement_scale_sd, end=' ', file=out_file)            # 4complement scale_sd\n",
    "        print(self.complement_var_sd, end=' ', file=out_file)              # 5complement var_sd\n",
    "        print(self.complement_drift, end=' ', file=out_file)               # 6complement_drift\n",
    "        print((1 if self.twoD else 0), end='\\n', file=out_file)            # has 2D\n",
    "\n",
    "        # line 2 alignment table sequence\n",
    "        print(self.alignment_table_sequence, end='\\n', file=out_file)\n",
    "\n",
    "        # line 3 template read\n",
    "        print(self.template_read, end='\\n', file=out_file)\n",
    "\n",
    "        # line 4 template strand map\n",
    "        for _ in self.template_strand_event_map:\n",
    "            print(_, end=' ', file=out_file)\n",
    "        print(\"\", end=\"\\n\", file=out_file)\n",
    "\n",
    "        # line 5 complement read\n",
    "        print(self.complement_read, end='\\n', file=out_file)\n",
    "\n",
    "        # line 6 complement strand map\n",
    "        for _ in self.complement_strand_event_map:\n",
    "            print(_, end=' ', file=out_file)\n",
    "        print(\"\", end=\"\\n\", file=out_file)\n",
    "\n",
    "        # line 7 template 2D event map\n",
    "        for _ in self.template_event_map:\n",
    "            print(_, end=' ', file=out_file)\n",
    "        print(\"\", end=\"\\n\", file=out_file)\n",
    "\n",
    "        # line 8 template events\n",
    "        template_start_time = self.template_events[0]['start']\n",
    "        for mean, stdev, length, start in self.template_events['mean', 'stdv', 'length', 'start']:\n",
    "            print(mean, stdev, length, (start - template_start_time), sep=' ', end=' ', file=out_file)\n",
    "        print(\"\", end=\"\\n\", file=out_file)\n",
    "\n",
    "        # line 9 complement 2D event map\n",
    "        for _ in self.complement_event_map[::-1]:\n",
    "            print(_, end=' ', file=out_file)\n",
    "        print(\"\", end=\"\\n\", file=out_file)\n",
    "\n",
    "        # line 10 complement events\n",
    "        if self.twoD:\n",
    "            complement_start_time = self.complement_events[0]['start']\n",
    "            for mean, stdev, length, start in self.complement_events['mean', 'stdv', 'length', 'start']:\n",
    "                print(mean, stdev, length, (start - complement_start_time), sep=' ', end=' ', file=out_file)\n",
    "        else:\n",
    "            pass\n",
    "        print(\"\", end=\"\\n\", file=out_file)\n",
    "\n",
    "        # line 11 model_state (template)\n",
    "        for _ in self.template_events['model_state']:\n",
    "            print(_, sep=' ', end=' ', file=out_file)\n",
    "        print(\"\", end=\"\\n\", file=out_file)\n",
    "\n",
    "        # line 12 p(model) (template)\n",
    "        for _ in self.template_events['p_model_state']:\n",
    "            print(_, sep=' ', end=' ', file=out_file)\n",
    "        print(\"\", end=\"\\n\", file=out_file)\n",
    "\n",
    "        # line 13 model_state (complement)\n",
    "        if self.twoD:\n",
    "            for _ in self.complement_events['model_state']:\n",
    "                print(_, sep=' ', end=' ', file=out_file)\n",
    "        print(\"\", end=\"\\n\", file=out_file)\n",
    "\n",
    "        # line 14 p(model) (complement)\n",
    "        if self.twoD:\n",
    "            for _ in self.complement_events['p_model_state']:\n",
    "                print(_, sep=' ', end=' ', file=out_file)\n",
    "        print(\"\", end=\"\\n\", file=out_file)\n",
    "\n",
    "        return True\n",
    "\n",
    "    def close(self):\n",
    "        self.fastFive.close()\n",
    "\n",
    "    @staticmethod\n",
    "    def logError(message, parent_job=None):\n",
    "        if parent_job is None:\n",
    "            print(message, file=sys.stderr)\n",
    "        else:\n",
    "            parent_job.fileStore.logToMaster(message)"
   ]
  },
  {
   "cell_type": "code",
   "execution_count": 2,
   "metadata": {
    "collapsed": true
   },
   "outputs": [],
   "source": [
    "d = NanoporeRead(fast_five_file= \"../albacore/albacore-data/DEAMERNANOPORE_20161206_FNFAB49164_MN16450_sequencing_run_MA_821_R9_4_NA12878_12_06_16_71094_ch83_read186_strand.fast5\", twoD= False)"
   ]
  },
  {
   "cell_type": "code",
   "execution_count": 3,
   "metadata": {
    "collapsed": false
   },
   "outputs": [
    {
     "name": "stdout",
     "output_type": "stream",
     "text": [
      "Initialize\n",
      "self.twoD is not used in nanoporeRead\n"
     ]
    },
    {
     "data": {
      "text/plain": [
       "True"
      ]
     },
     "execution_count": 3,
     "metadata": {},
     "output_type": "execute_result"
    }
   ],
   "source": [
    "d.Initialize(parent_job= None)"
   ]
  },
  {
   "cell_type": "code",
   "execution_count": 4,
   "metadata": {
    "collapsed": true
   },
   "outputs": [],
   "source": [
    "fh = open(\"../fh.txt\", \"w\")"
   ]
  },
  {
   "cell_type": "code",
   "execution_count": 5,
   "metadata": {
    "collapsed": false
   },
   "outputs": [
    {
     "name": "stdout",
     "output_type": "stream",
     "text": [
      "Initialize\n",
      "self.twoD is not used in nanoporeRead\n"
     ]
    },
    {
     "data": {
      "text/plain": [
       "True"
      ]
     },
     "execution_count": 5,
     "metadata": {},
     "output_type": "execute_result"
    }
   ],
   "source": [
    "d.Write(parent_job=None, out_file= fh, initialize=True)"
   ]
  },
  {
   "cell_type": "code",
   "execution_count": 6,
   "metadata": {
    "collapsed": false
   },
   "outputs": [
    {
     "data": {
      "text/plain": [
       "'/Analyses/Basecall_1D_001'"
      ]
     },
     "execution_count": 6,
     "metadata": {},
     "output_type": "execute_result"
    }
   ],
   "source": [
    "d.get_latest_basecall_edition(\"/Analyses/Basecall_1D_00{}\")"
   ]
  },
  {
   "cell_type": "code",
   "execution_count": 7,
   "metadata": {
    "collapsed": false
   },
   "outputs": [
    {
     "data": {
      "text/plain": [
       "True"
      ]
     },
     "execution_count": 7,
     "metadata": {},
     "output_type": "execute_result"
    }
   ],
   "source": [
    "d.get_template_events()"
   ]
  },
  {
   "cell_type": "code",
   "execution_count": 8,
   "metadata": {
    "collapsed": false
   },
   "outputs": [
    {
     "data": {
      "text/plain": [
       "True"
      ]
     },
     "execution_count": 8,
     "metadata": {},
     "output_type": "execute_result"
    }
   ],
   "source": [
    "d.init_1d_event_maps()"
   ]
  },
  {
   "cell_type": "code",
   "execution_count": 9,
   "metadata": {
    "collapsed": true
   },
   "outputs": [],
   "source": [
    "fastFive = h5py.File(\"../albacore/albacore-data/DEAMERNANOPORE_20161206_FNFAB49164_MN16450_sequencing_run_MA_821_R9_4_NA12878_12_06_16_71094_ch83_read186_strand.fast5\", 'r')"
   ]
  },
  {
   "cell_type": "code",
   "execution_count": 10,
   "metadata": {
    "collapsed": true
   },
   "outputs": [],
   "source": [
    "TEMPLATE_BASECALL_KEY_0 = \"/Analyses/Basecall_1D_001\""
   ]
  },
  {
   "cell_type": "code",
   "execution_count": 11,
   "metadata": {
    "collapsed": false
   },
   "outputs": [
    {
     "data": {
      "text/plain": [
       "True"
      ]
     },
     "execution_count": 11,
     "metadata": {},
     "output_type": "execute_result"
    }
   ],
   "source": [
    "TEMPLATE_BASECALL_KEY_0 in fastFive"
   ]
  },
  {
   "cell_type": "code",
   "execution_count": 12,
   "metadata": {
    "collapsed": true
   },
   "outputs": [],
   "source": [
    "oneD_root_address = d.get_latest_basecall_edition(\"/Analyses/Basecall_1D_00{}\")"
   ]
  },
  {
   "cell_type": "code",
   "execution_count": 13,
   "metadata": {
    "collapsed": false
   },
   "outputs": [
    {
     "data": {
      "text/plain": [
       "'/Analyses/Basecall_1D_001'"
      ]
     },
     "execution_count": 13,
     "metadata": {},
     "output_type": "execute_result"
    }
   ],
   "source": [
    "oneD_root_address"
   ]
  },
  {
   "cell_type": "code",
   "execution_count": 14,
   "metadata": {
    "collapsed": true
   },
   "outputs": [],
   "source": [
    "VERSION_KEY = \"version\""
   ]
  },
  {
   "cell_type": "code",
   "execution_count": 15,
   "metadata": {
    "collapsed": false
   },
   "outputs": [
    {
     "data": {
      "text/plain": [
       "True"
      ]
     },
     "execution_count": 15,
     "metadata": {},
     "output_type": "execute_result"
    }
   ],
   "source": [
    "VERSION_KEY in fastFive[oneD_root_address].attrs.keys()"
   ]
  },
  {
   "cell_type": "code",
   "execution_count": 16,
   "metadata": {
    "collapsed": true
   },
   "outputs": [],
   "source": [
    "version = d.fastFive[oneD_root_address].attrs[\"version\"]"
   ]
  },
  {
   "cell_type": "code",
   "execution_count": 17,
   "metadata": {
    "collapsed": false
   },
   "outputs": [
    {
     "data": {
      "text/plain": [
       "u'1.2.1'"
      ]
     },
     "execution_count": 17,
     "metadata": {},
     "output_type": "execute_result"
    }
   ],
   "source": [
    "version"
   ]
  },
  {
   "cell_type": "code",
   "execution_count": 18,
   "metadata": {
    "collapsed": true
   },
   "outputs": [],
   "source": [
    "SUPPORTED_1D_VERSIONS   = (\"1.2.1\")"
   ]
  },
  {
   "cell_type": "code",
   "execution_count": 19,
   "metadata": {
    "collapsed": false
   },
   "outputs": [
    {
     "data": {
      "text/plain": [
       "True"
      ]
     },
     "execution_count": 19,
     "metadata": {},
     "output_type": "execute_result"
    }
   ],
   "source": [
    "version in SUPPORTED_1D_VERSIONS"
   ]
  },
  {
   "cell_type": "code",
   "execution_count": 20,
   "metadata": {
    "collapsed": true
   },
   "outputs": [],
   "source": [
    "template_event_table_address = \"%s/BaseCalled_template/Events\" % oneD_root_address\n",
    "template_model_address       = \"%s/BaseCalled_template/Model\" % oneD_root_address\n",
    "template_model_id            = None"
   ]
  },
  {
   "cell_type": "code",
   "execution_count": 21,
   "metadata": {
    "collapsed": false
   },
   "outputs": [
    {
     "data": {
      "text/plain": [
       "'/Analyses/Basecall_1D_001/BaseCalled_template/Events'"
      ]
     },
     "execution_count": 21,
     "metadata": {},
     "output_type": "execute_result"
    }
   ],
   "source": [
    "template_event_table_address"
   ]
  },
  {
   "cell_type": "code",
   "execution_count": 22,
   "metadata": {
    "collapsed": false
   },
   "outputs": [
    {
     "data": {
      "text/plain": [
       "'/Analyses/Basecall_1D_001/BaseCalled_template/Model'"
      ]
     },
     "execution_count": 22,
     "metadata": {},
     "output_type": "execute_result"
    }
   ],
   "source": [
    "template_model_address"
   ]
  },
  {
   "cell_type": "code",
   "execution_count": 23,
   "metadata": {
    "collapsed": false
   },
   "outputs": [
    {
     "data": {
      "text/plain": [
       "'/Analyses/Basecall_1D_001/BaseCalled_template/Fastq'"
      ]
     },
     "execution_count": 23,
     "metadata": {},
     "output_type": "execute_result"
    }
   ],
   "source": [
    "fastq_sequence_address = \"%s/BaseCalled_template/Fastq\" % oneD_root_address\n",
    "fastq_sequence_address"
   ]
  },
  {
   "cell_type": "code",
   "execution_count": 24,
   "metadata": {
    "collapsed": false
   },
   "outputs": [
    {
     "data": {
      "text/plain": [
       "True"
      ]
     },
     "execution_count": 24,
     "metadata": {},
     "output_type": "execute_result"
    }
   ],
   "source": [
    "fastq_sequence_address in fastFive"
   ]
  },
  {
   "cell_type": "code",
   "execution_count": 25,
   "metadata": {
    "collapsed": false
   },
   "outputs": [
    {
     "data": {
      "text/plain": [
       "'TTGTTCTTCGTTTCGGTTCGTGTTAGCTCTCCTCAATATGCATCGCTGTGGTATCAAGAGACAGCCATCATTCCCCTAAAATGGAATTAAAAAACTATTAAACCCATATAACCTCCCCAAAATTCAGTCAATAACACACCCATTACACCGCTAACAATCAATACTAAAGCCCCCCATAAAATGGGAGGCTTATGACCCACAGGCCATTTACTGAAGCCCACACTCCAGCAGAAACAAAGCATACATCATTATTCACGGGACTACCAGCCGACCAATGAGTATGTGAAAAAACCGTGATTTCAGCTACCGGAGACACCAATATTTAATACGCAAAACTAGCCCCTAATAGGAATTAATTAACCACTCATTCGTCGACCTCCCCACCGTCAATCTCCATGATGAACTGGCTCACTCCTTGGCGCCTGCCTGATTCTCCAAATCACCACAGGACTATTCTAATGCATGCTACTCACCCAGACGCCTCATTGCCTTTTCATCAATCGCCCACATCACTCGAGACGTAAATTATGGCTGAATCATCCGCTACCTTCCGCCAGTAGCCTCAATGTCTTTATCTGCCTCTTCCTATACATCGGGCGAGGCCTATATTACAGTTCATTTCTCTCTACTCAGAAACCTGAAACATCGCATTATCCTCCTGCTTGCAATATAGCAACAGCCTTCATAGGCTATGTCCTCCCGTGAGGTAAAATATCATTCTGAGGGCCACAGTAATTACAAACTTACTATCATGTCCCATACATTGGGACCTATTCAATGAATCTGAGGGAGGCTACTCAGTAGACAGTCCCACCCTCACACGATTCTTTACCTTTCACTTCATCTTGCCTTCATTATTGCAGCCCTAGCAGCACTCCACCTCTATTCTTGCACGAGCAGGATCAAACAACCCCTAAGGGAATCACACTTGTTCCAGTCTAAAATCACCTTCCACCCTTACTACACAATCAAGACGCCTCGGCTTGCTTCTCTTCCTTCTCTCTTAATGACATTAACACTATTCTCCTGTGGGTTCAGTTCGGTTGTCCATCTGGATCGGTTCAGTTCTTTTCTTTTCTTTCCTCTCTTTCTCTCACACCTCTTTTTCCTCTTTTCTCTCATGGCATCGCGCCGGCGTGGCGGCATCGCGGCGGCAGCATGCGCCGCATCAGGCATCTTTGGCGGCCGCCTGGCAGTTCTCCGGTCAGGTCTAACAGACTGAGATCCTCGTGCTAATCAATCCTCATCTGGCAATCATCATCAGCTATCCAGACAATAGGCATGTTTCGCCCTTCGTGATCAGCTGATCTGGCCGCGGACCTCCTCGTTCAGCCTGGATCGGATGACCATTGAAGCTGCCCTTTGCCGTCGTTGGTTGGTGGCGTCGTGCTATGCTTCACGACCGAGTCCTGATCCTGTACCAGCTATCTCCCTGATTGAGACAAGATGTCAAATGGGCCTGTCCTTGTGGTATAAATAATACACCAGTCTTATGGTAGGAGACAGAAAACCTTTTCCAAGGACAAATCAGAGAAAAAAGTCTTTAACTCCACCATTAGCACCAAAGCTAAGATTCTAATTTAAACTCTGTTCTTTCATGGAAGCAGATTTGGGTACACCACCCAAGTATTGACTCACCATAACCATATGTATTTCGTACATTACTGCTGACCACCATGAATATTGTACGGTATATAAATGCCTGACCACCTGTAGTACATAAAAACCCAATCCTCAAAACCCCCCTCCCCGTAGCACAAGCAGAGTACAGCAATCAACCCTCAACTATCACACATCAGCTGCAGCTCAAAAGCCACCCCTCACCCACTGGGATGCCAACAGAGCCTGCCCACCCTTAACAGTACATAGTACATAAAGCCATTTACCGTACACTTTTATTACAGTCAAATCCTTCTCGTCCCCATGGATGACCCCCCCTCAGATAGGGGTCCTTGACCTGCATCCTCCGTGAAATCAATATCCCGCACAGGGTGCTACTCTCCTCGCTCA'"
      ]
     },
     "execution_count": 25,
     "metadata": {},
     "output_type": "execute_result"
    }
   ],
   "source": [
    "template_read= fastFive[fastq_sequence_address][()].split()[2]\n",
    "template_read"
   ]
  },
  {
   "cell_type": "code",
   "execution_count": 26,
   "metadata": {
    "collapsed": false
   },
   "outputs": [
    {
     "data": {
      "text/plain": [
       "'63029450-4f8b-4807-a1bf-e8fefb22e6e3_Basecall_1D_template'"
      ]
     },
     "execution_count": 26,
     "metadata": {},
     "output_type": "execute_result"
    }
   ],
   "source": [
    "read_label= fastFive[fastq_sequence_address][()].split()[0][1:]\n",
    "read_label"
   ]
  },
  {
   "cell_type": "code",
   "execution_count": 27,
   "metadata": {
    "collapsed": false
   },
   "outputs": [
    {
     "data": {
      "text/plain": [
       "5"
      ]
     },
     "execution_count": 27,
     "metadata": {},
     "output_type": "execute_result"
    }
   ],
   "source": [
    "kmer_length= len(fastFive[template_event_table_address][0][4])\n",
    "kmer_length"
   ]
  },
  {
   "cell_type": "code",
   "execution_count": 28,
   "metadata": {
    "collapsed": false
   },
   "outputs": [
    {
     "data": {
      "text/plain": [
       "2010"
      ]
     },
     "execution_count": 28,
     "metadata": {},
     "output_type": "execute_result"
    }
   ],
   "source": [
    "template_read_length = len(template_read)\n",
    "template_read_length"
   ]
  },
  {
   "cell_type": "code",
   "execution_count": null,
   "metadata": {
    "collapsed": true
   },
   "outputs": [],
   "source": []
  }
 ],
 "metadata": {
  "kernelspec": {
   "display_name": "Python 2",
   "language": "python",
   "name": "python2"
  },
  "language_info": {
   "codemirror_mode": {
    "name": "ipython",
    "version": 2
   },
   "file_extension": ".py",
   "mimetype": "text/x-python",
   "name": "python",
   "nbconvert_exporter": "python",
   "pygments_lexer": "ipython2",
   "version": "2.7.13"
  }
 },
 "nbformat": 4,
 "nbformat_minor": 2
}
